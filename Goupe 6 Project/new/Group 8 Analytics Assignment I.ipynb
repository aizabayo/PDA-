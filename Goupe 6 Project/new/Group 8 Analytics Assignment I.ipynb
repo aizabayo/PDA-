{
 "cells": [
  {
   "cell_type": "code",
   "execution_count": 13,
   "id": "255bfcbd",
   "metadata": {
    "scrolled": true
   },
   "outputs": [],
   "source": [
    "\n",
    "import numpy as np \n",
    "import matplotlib.pyplot as plt\n",
    "import pandas as pd \n",
    "import statsmodels.api as sm\n",
    "from sklearn.linear_model import LogisticRegression\n",
    "from sklearn.model_selection import train_test_split\n",
    "import seaborn as sns\n",
    "from sklearn.metrics import mean_squared_error, r2_score, confusion_matrix\n",
    "from matplotlib import pyplot as plt\n",
    "%matplotlib inline \n",
    "# import geopandas as gpf\n",
    "import warnings\n",
    "warnings.filterwarnings(\"ignore\")\n",
    "\n",
    "sns.set()"
   ]
  },
  {
   "cell_type": "markdown",
   "id": "9cfa72af",
   "metadata": {},
   "source": [
    "#### Question 1 & 4 Loading the Dataset \n",
    "note that initial co2 dataset will be used for EDA and then the final cleaned dataset will be utilized \n"
   ]
  },
  {
   "cell_type": "code",
   "execution_count": 14,
   "id": "9eaa551d",
   "metadata": {},
   "outputs": [],
   "source": [
    "\n",
    "co2=pd.read_csv('SYB66_310_202310_Carbon Dioxide Emission Estimates.csv', encoding='latin1', skiprows = 1)"
   ]
  },
  {
   "cell_type": "markdown",
   "id": "9557f13c",
   "metadata": {},
   "source": []
  },
  {
   "cell_type": "markdown",
   "id": "bf6288cf",
   "metadata": {},
   "source": [
    "#### Question 2 A cursory examination of the CSV file and 5) exploratory data analysis"
   ]
  },
  {
   "cell_type": "code",
   "execution_count": 15,
   "id": "2f72340f",
   "metadata": {},
   "outputs": [
    {
     "data": {
      "text/plain": [
       "Index(['Region/Country/Area', 'Unnamed: 1', 'Year', 'Series', 'Value',\n",
       "       'Footnotes', 'Source'],\n",
       "      dtype='object')"
      ]
     },
     "execution_count": 15,
     "metadata": {},
     "output_type": "execute_result"
    }
   ],
   "source": [
    "\"\"\" dataset columns\"\"\"\n",
    "co2.columns"
   ]
  },
  {
   "cell_type": "code",
   "execution_count": 16,
   "id": "0965d68e",
   "metadata": {},
   "outputs": [
    {
     "data": {
      "text/html": [
       "<div>\n",
       "<style scoped>\n",
       "    .dataframe tbody tr th:only-of-type {\n",
       "        vertical-align: middle;\n",
       "    }\n",
       "\n",
       "    .dataframe tbody tr th {\n",
       "        vertical-align: top;\n",
       "    }\n",
       "\n",
       "    .dataframe thead th {\n",
       "        text-align: right;\n",
       "    }\n",
       "</style>\n",
       "<table border=\"1\" class=\"dataframe\">\n",
       "  <thead>\n",
       "    <tr style=\"text-align: right;\">\n",
       "      <th></th>\n",
       "      <th>Region/Country/Area</th>\n",
       "      <th>Unnamed: 1</th>\n",
       "      <th>Year</th>\n",
       "      <th>Series</th>\n",
       "      <th>Value</th>\n",
       "      <th>Footnotes</th>\n",
       "      <th>Source</th>\n",
       "    </tr>\n",
       "  </thead>\n",
       "  <tbody>\n",
       "    <tr>\n",
       "      <th>0</th>\n",
       "      <td>8</td>\n",
       "      <td>Albania</td>\n",
       "      <td>1975</td>\n",
       "      <td>Emissions (thousand metric tons of carbon diox...</td>\n",
       "      <td>4,524</td>\n",
       "      <td>NaN</td>\n",
       "      <td>International Energy Agency, IEA World Energy ...</td>\n",
       "    </tr>\n",
       "    <tr>\n",
       "      <th>1</th>\n",
       "      <td>8</td>\n",
       "      <td>Albania</td>\n",
       "      <td>1985</td>\n",
       "      <td>Emissions (thousand metric tons of carbon diox...</td>\n",
       "      <td>7,145</td>\n",
       "      <td>NaN</td>\n",
       "      <td>International Energy Agency, IEA World Energy ...</td>\n",
       "    </tr>\n",
       "    <tr>\n",
       "      <th>2</th>\n",
       "      <td>8</td>\n",
       "      <td>Albania</td>\n",
       "      <td>2005</td>\n",
       "      <td>Emissions (thousand metric tons of carbon diox...</td>\n",
       "      <td>3,980</td>\n",
       "      <td>NaN</td>\n",
       "      <td>International Energy Agency, IEA World Energy ...</td>\n",
       "    </tr>\n",
       "    <tr>\n",
       "      <th>3</th>\n",
       "      <td>8</td>\n",
       "      <td>Albania</td>\n",
       "      <td>2010</td>\n",
       "      <td>Emissions (thousand metric tons of carbon diox...</td>\n",
       "      <td>4,074</td>\n",
       "      <td>NaN</td>\n",
       "      <td>International Energy Agency, IEA World Energy ...</td>\n",
       "    </tr>\n",
       "    <tr>\n",
       "      <th>4</th>\n",
       "      <td>8</td>\n",
       "      <td>Albania</td>\n",
       "      <td>2015</td>\n",
       "      <td>Emissions (thousand metric tons of carbon diox...</td>\n",
       "      <td>3,975</td>\n",
       "      <td>NaN</td>\n",
       "      <td>International Energy Agency, IEA World Energy ...</td>\n",
       "    </tr>\n",
       "    <tr>\n",
       "      <th>...</th>\n",
       "      <td>...</td>\n",
       "      <td>...</td>\n",
       "      <td>...</td>\n",
       "      <td>...</td>\n",
       "      <td>...</td>\n",
       "      <td>...</td>\n",
       "      <td>...</td>\n",
       "    </tr>\n",
       "    <tr>\n",
       "      <th>2259</th>\n",
       "      <td>716</td>\n",
       "      <td>Zimbabwe</td>\n",
       "      <td>2010</td>\n",
       "      <td>Emissions per capita (metric tons of carbon di...</td>\n",
       "      <td>0.7</td>\n",
       "      <td>NaN</td>\n",
       "      <td>International Energy Agency, IEA World Energy ...</td>\n",
       "    </tr>\n",
       "    <tr>\n",
       "      <th>2260</th>\n",
       "      <td>716</td>\n",
       "      <td>Zimbabwe</td>\n",
       "      <td>2015</td>\n",
       "      <td>Emissions per capita (metric tons of carbon di...</td>\n",
       "      <td>0.8</td>\n",
       "      <td>NaN</td>\n",
       "      <td>International Energy Agency, IEA World Energy ...</td>\n",
       "    </tr>\n",
       "    <tr>\n",
       "      <th>2261</th>\n",
       "      <td>716</td>\n",
       "      <td>Zimbabwe</td>\n",
       "      <td>2018</td>\n",
       "      <td>Emissions per capita (metric tons of carbon di...</td>\n",
       "      <td>0.7</td>\n",
       "      <td>NaN</td>\n",
       "      <td>International Energy Agency, IEA World Energy ...</td>\n",
       "    </tr>\n",
       "    <tr>\n",
       "      <th>2262</th>\n",
       "      <td>716</td>\n",
       "      <td>Zimbabwe</td>\n",
       "      <td>2019</td>\n",
       "      <td>Emissions per capita (metric tons of carbon di...</td>\n",
       "      <td>0.7</td>\n",
       "      <td>NaN</td>\n",
       "      <td>International Energy Agency, IEA World Energy ...</td>\n",
       "    </tr>\n",
       "    <tr>\n",
       "      <th>2263</th>\n",
       "      <td>716</td>\n",
       "      <td>Zimbabwe</td>\n",
       "      <td>2020</td>\n",
       "      <td>Emissions per capita (metric tons of carbon di...</td>\n",
       "      <td>0.5</td>\n",
       "      <td>NaN</td>\n",
       "      <td>International Energy Agency, IEA World Energy ...</td>\n",
       "    </tr>\n",
       "  </tbody>\n",
       "</table>\n",
       "<p>2264 rows × 7 columns</p>\n",
       "</div>"
      ],
      "text/plain": [
       "      Region/Country/Area Unnamed: 1  Year  \\\n",
       "0                       8    Albania  1975   \n",
       "1                       8    Albania  1985   \n",
       "2                       8    Albania  2005   \n",
       "3                       8    Albania  2010   \n",
       "4                       8    Albania  2015   \n",
       "...                   ...        ...   ...   \n",
       "2259                  716   Zimbabwe  2010   \n",
       "2260                  716   Zimbabwe  2015   \n",
       "2261                  716   Zimbabwe  2018   \n",
       "2262                  716   Zimbabwe  2019   \n",
       "2263                  716   Zimbabwe  2020   \n",
       "\n",
       "                                                 Series  Value Footnotes  \\\n",
       "0     Emissions (thousand metric tons of carbon diox...  4,524       NaN   \n",
       "1     Emissions (thousand metric tons of carbon diox...  7,145       NaN   \n",
       "2     Emissions (thousand metric tons of carbon diox...  3,980       NaN   \n",
       "3     Emissions (thousand metric tons of carbon diox...  4,074       NaN   \n",
       "4     Emissions (thousand metric tons of carbon diox...  3,975       NaN   \n",
       "...                                                 ...    ...       ...   \n",
       "2259  Emissions per capita (metric tons of carbon di...    0.7       NaN   \n",
       "2260  Emissions per capita (metric tons of carbon di...    0.8       NaN   \n",
       "2261  Emissions per capita (metric tons of carbon di...    0.7       NaN   \n",
       "2262  Emissions per capita (metric tons of carbon di...    0.7       NaN   \n",
       "2263  Emissions per capita (metric tons of carbon di...    0.5       NaN   \n",
       "\n",
       "                                                 Source  \n",
       "0     International Energy Agency, IEA World Energy ...  \n",
       "1     International Energy Agency, IEA World Energy ...  \n",
       "2     International Energy Agency, IEA World Energy ...  \n",
       "3     International Energy Agency, IEA World Energy ...  \n",
       "4     International Energy Agency, IEA World Energy ...  \n",
       "...                                                 ...  \n",
       "2259  International Energy Agency, IEA World Energy ...  \n",
       "2260  International Energy Agency, IEA World Energy ...  \n",
       "2261  International Energy Agency, IEA World Energy ...  \n",
       "2262  International Energy Agency, IEA World Energy ...  \n",
       "2263  International Energy Agency, IEA World Energy ...  \n",
       "\n",
       "[2264 rows x 7 columns]"
      ]
     },
     "execution_count": 16,
     "metadata": {},
     "output_type": "execute_result"
    }
   ],
   "source": [
    "\"\"\" checking the first and last rows\"\"\"\n",
    "co2"
   ]
  },
  {
   "cell_type": "code",
   "execution_count": 18,
   "id": "c43d8681",
   "metadata": {},
   "outputs": [
    {
     "name": "stdout",
     "output_type": "stream",
     "text": [
      "==columns==\n",
      "['Region/Country/Area', 'Unnamed: 1', 'Year', 'Series', 'Value', 'Footnotes', 'Source']\n",
      "\n",
      "===info==\n",
      "\n",
      "<class 'pandas.core.frame.DataFrame'>\n",
      "RangeIndex: 2264 entries, 0 to 2263\n",
      "Data columns (total 7 columns):\n",
      " #   Column               Non-Null Count  Dtype \n",
      "---  ------               --------------  ----- \n",
      " 0   Region/Country/Area  2264 non-null   int64 \n",
      " 1   Unnamed: 1           2264 non-null   object\n",
      " 2   Year                 2264 non-null   int64 \n",
      " 3   Series               2264 non-null   object\n",
      " 4   Value                2264 non-null   object\n",
      " 5   Footnotes            256 non-null    object\n",
      " 6   Source               2264 non-null   object\n",
      "dtypes: int64(2), object(5)\n",
      "memory usage: 123.9+ KB\n"
     ]
    }
   ],
   "source": [
    "\"\"\"\n",
    "Checking the basic dataset information\n",
    "\"\"\"\n",
    "print(\"==columns==\")\n",
    "print(co2.columns.to_list())\n",
    "print('\\n===info==\\n')\n",
    "co2.info()"
   ]
  },
  {
   "cell_type": "markdown",
   "id": "6f96ef8c",
   "metadata": {},
   "source": [
    "###### observations from above,  the dataset has int (2 cols), float (one col) and object (five cols) datatype"
   ]
  },
  {
   "cell_type": "code",
   "execution_count": 19,
   "id": "acc604e1",
   "metadata": {},
   "outputs": [
    {
     "name": "stdout",
     "output_type": "stream",
     "text": [
      "2\n"
     ]
    },
    {
     "data": {
      "text/plain": [
       "array(['Emissions (thousand metric tons of carbon dioxide)',\n",
       "       'Emissions per capita (metric tons of carbon dioxide)'],\n",
       "      dtype=object)"
      ]
     },
     "execution_count": 19,
     "metadata": {},
     "output_type": "execute_result"
    }
   ],
   "source": [
    "## checking unique values to help understand more the dataset\n",
    "print(len(co2['Series'].unique()))\n",
    "co2['Series'].unique()"
   ]
  },
  {
   "cell_type": "code",
   "execution_count": 8,
   "id": "bff71926",
   "metadata": {},
   "outputs": [
    {
     "name": "stdout",
     "output_type": "stream",
     "text": [
      "16\n"
     ]
    },
    {
     "data": {
      "text/plain": [
       "array([nan,\n",
       "       'Data refer to fiscal years beginning 1 July.;Excluding overseas territories.',\n",
       "       'Data refer to fiscal years beginning 1 July.',\n",
       "       'For statistical purposes, the data for China do not include those for the Hong Kong Special Administrative Region (Hong Kong SAR), Macao Special Administrative Region (Macao SAR) and Taiwan Province of China.',\n",
       "       'Excluding northern Cyprus.', 'Refers to Czechia and Slovakia.',\n",
       "       'Excluding the Faroe Islands and Greenland.',\n",
       "       'Data refer to fiscal years beginning 1 July.;Excluding Eritrea.',\n",
       "       'From 2011 onwards, data include Monaco, and the five overseas departments and exclude New Caledonia, French Polynesia, St. Barthélemy, St. Martin, St. Pierre and Miquelon, and Wallis and Futuna.',\n",
       "       'Data refer to fiscal years beginning 1 April.',\n",
       "       'Data refer to fiscal years beginning 21 March.',\n",
       "       'Data include San Marino and the Holy See.',\n",
       "       'Data include Okinawa.', 'Data includes the Azores and Madeira.',\n",
       "       'The Government of Ukraine has informed the United Nations that it is not in a position to provide statistical data concerning the Autonomous Republic of Crimea and the city of Sevastopol.',\n",
       "       'Including overseas territories.'], dtype=object)"
      ]
     },
     "execution_count": 8,
     "metadata": {},
     "output_type": "execute_result"
    }
   ],
   "source": [
    "print(len(co2['Footnotes'].unique()))\n",
    "co2['Footnotes'].unique()"
   ]
  },
  {
   "cell_type": "code",
   "execution_count": 21,
   "id": "13a0c374",
   "metadata": {},
   "outputs": [
    {
     "name": "stdout",
     "output_type": "stream",
     "text": [
      "1\n"
     ]
    },
    {
     "data": {
      "text/plain": [
       "array(['International Energy Agency, IEA World Energy Balances 2021 and 2006 IPCC Guidelines for Greenhouse Gas Inventories, last accessed April 2023.'],\n",
       "      dtype=object)"
      ]
     },
     "execution_count": 21,
     "metadata": {},
     "output_type": "execute_result"
    }
   ],
   "source": [
    "print(len(co2['Source'].unique()))\n",
    "co2['Source'].unique()"
   ]
  },
  {
   "cell_type": "code",
   "execution_count": 22,
   "id": "8e25c29e",
   "metadata": {},
   "outputs": [
    {
     "name": "stdout",
     "output_type": "stream",
     "text": [
      "149\n"
     ]
    },
    {
     "data": {
      "text/plain": [
       "array([  8,  12,  24,  32,  51,  36,  40,  31,  48,  50, 112,  56, 204,\n",
       "        68,  70,  72,  76,  96, 100, 116, 120, 124, 152, 156, 344, 170,\n",
       "       178, 188, 384, 191, 192, 531, 196, 203, 408, 180, 208, 214, 218,\n",
       "       818, 222, 226, 232, 233, 748, 231, 246, 250, 266, 268, 276, 288,\n",
       "       292, 300, 320, 328, 332, 340, 348, 352, 356, 360, 364, 368, 372,\n",
       "       376, 380, 388, 392, 400, 398, 404, 412, 414, 417, 418, 428, 422,\n",
       "       434, 440, 442, 450, 458, 470, 480, 484, 496, 499, 504, 508, 104,\n",
       "       516, 524, 528, 554, 558, 562, 566, 807, 578, 512, 586, 591, 600,\n",
       "       604, 608, 616, 620, 634, 410, 498, 642, 643, 646, 682, 686, 688,\n",
       "       702, 703, 705, 710, 728, 724, 144, 729, 740, 752, 756, 760, 762,\n",
       "       764, 768, 780, 788, 792, 795, 800, 804, 784, 826, 834, 840, 858,\n",
       "       860, 862, 704, 887, 894, 716], dtype=int64)"
      ]
     },
     "execution_count": 22,
     "metadata": {},
     "output_type": "execute_result"
    }
   ],
   "source": [
    "print(len(co2['Region/Country/Area'].unique()))\n",
    "co2['Region/Country/Area'].unique()"
   ]
  },
  {
   "cell_type": "code",
   "execution_count": 23,
   "id": "9145cfbf",
   "metadata": {},
   "outputs": [
    {
     "data": {
      "text/plain": [
       "Region/Country/Area     int64\n",
       "Unnamed: 1             object\n",
       "Year                    int64\n",
       "Series                 object\n",
       "Value                  object\n",
       "Footnotes              object\n",
       "Source                 object\n",
       "dtype: object"
      ]
     },
     "execution_count": 23,
     "metadata": {},
     "output_type": "execute_result"
    }
   ],
   "source": [
    "\"\"\"\n",
    "data types\n",
    "\"\"\"\n",
    "co2.dtypes"
   ]
  },
  {
   "cell_type": "code",
   "execution_count": 25,
   "id": "ec8db95c",
   "metadata": {},
   "outputs": [
    {
     "data": {
      "text/plain": [
       "count     1132\n",
       "unique     192\n",
       "top        0.1\n",
       "freq        58\n",
       "Name: Value, dtype: object"
      ]
     },
     "execution_count": 25,
     "metadata": {},
     "output_type": "execute_result"
    }
   ],
   "source": [
    "\"\"\"\n",
    "descriptive statistics \n",
    "\"\"\"\n",
    "#GROUP THE DATA INTO categories provided by the series to calculate different statistical values\n",
    "grouped= co2.groupby('Series')\n",
    "co2_per_capital = grouped.get_group('Emissions per capita (metric tons of carbon dioxide)')\n",
    "co2_per_metric= grouped.get_group('Emissions (thousand metric tons of carbon dioxide)')\n",
    "\n",
    "# describe countries grouped by Emissions per capita (metric tons of carbon dioxide)\n",
    "co2_per_capital['Value'].describe()"
   ]
  },
  {
   "cell_type": "code",
   "execution_count": 26,
   "id": "47416a3c",
   "metadata": {},
   "outputs": [
    {
     "data": {
      "text/plain": [
       "count       1132\n",
       "unique      1122\n",
       "top       20,734\n",
       "freq           2\n",
       "Name: Value, dtype: object"
      ]
     },
     "execution_count": 26,
     "metadata": {},
     "output_type": "execute_result"
    }
   ],
   "source": [
    "#describe countries grouped by Emissions (thousand metric tons of carbon dioxide)\n",
    "co2_per_metric['Value'].describe()"
   ]
  },
  {
   "cell_type": "code",
   "execution_count": 27,
   "id": "e831c8ab",
   "metadata": {},
   "outputs": [
    {
     "data": {
      "text/plain": [
       "Region/Country/Area       0\n",
       "Unnamed: 1                0\n",
       "Year                      0\n",
       "Series                    0\n",
       "Value                     0\n",
       "Footnotes              2008\n",
       "Source                    0\n",
       "dtype: int64"
      ]
     },
     "execution_count": 27,
     "metadata": {},
     "output_type": "execute_result"
    }
   ],
   "source": [
    "\"\"\"\n",
    "checking missing values\n",
    "\"\"\"\n",
    "co2.isnull().sum()"
   ]
  },
  {
   "cell_type": "markdown",
   "id": "004af164",
   "metadata": {},
   "source": [
    " \n",
    "Observation from above:Footnotes and unnamed: 7 has significant missing values, they might not be relevant for the task.They can safely be droped out.\n",
    " "
   ]
  },
  {
   "cell_type": "code",
   "execution_count": null,
   "id": "5840db77",
   "metadata": {},
   "outputs": [],
   "source": [
    "\"\"\"\n",
    "the following codes check whether there are any outliers in the dataset \n",
    "for size measurements using seabons boxplot.\n",
    "\"\"\"\n",
    "\n",
    "from matplotlib import pyplot\n",
    "\n",
    "import matplotlib.ticker as ticker\n",
    "cols=['Region/Country/Area','Year','Value']\n",
    "     \n",
    "for item in cols: \n",
    "    print(f\"{'Column:':>30} {item}\")\n",
    "    sns.boxplot(co2[item],orient=\"vertical\")\n",
    "    pyplot.show()"
   ]
  },
  {
   "cell_type": "code",
   "execution_count": null,
   "id": "ab9b8f96",
   "metadata": {},
   "outputs": [],
   "source": [
    "\"\"\"\n",
    "the following codes check whether there are any outliers in the dataset \n",
    "for size measurements using seabons distplot.\n",
    "\"\"\"\n",
    "\n",
    "from matplotlib import pyplot\n",
    "\n",
    "import matplotlib.ticker as ticker\n",
    "cols=['Region/Country/Area','Year','Value']\n",
    "     \n",
    "for item in cols:  \n",
    "    print(f\"{'Column:':>30} {item}\")\n",
    "    sns.distplot(co2[item])\n",
    "    pyplot.show()"
   ]
  },
  {
   "cell_type": "markdown",
   "id": "ddee716c",
   "metadata": {},
   "source": [
    "All two type of graphs above show that the Value feature has some outliers values"
   ]
  },
  {
   "cell_type": "markdown",
   "id": "fefd782f",
   "metadata": {},
   "source": [
    "##### DATA VISUALIZATION"
   ]
  },
  {
   "cell_type": "code",
   "execution_count": null,
   "id": "d15bc42c",
   "metadata": {},
   "outputs": [],
   "source": [
    "sns.boxplot(x='Year',y='Value',data=co2)"
   ]
  },
  {
   "cell_type": "code",
   "execution_count": null,
   "id": "76fac333",
   "metadata": {},
   "outputs": [],
   "source": [
    "co2.hist(bins=30, figsize=(9,9))\n",
    "plt.suptitle(\"Histogram for the numeric variable\")\n",
    "plt.savefig('hist')"
   ]
  },
  {
   "cell_type": "code",
   "execution_count": null,
   "id": "202172b2",
   "metadata": {},
   "outputs": [],
   "source": [
    "df_without_label = co2.drop('Value', axis=1)\n",
    "df_without_label.plot(kind='box', subplots=True, layout=(4,4), \n",
    "                      sharex=False, sharey=False, \n",
    "                      figsize=(12,12),\n",
    "                      title='Box Plot for numerical variable')\n",
    "plt.savefig('boxplot')\n",
    "plt.show()"
   ]
  },
  {
   "cell_type": "markdown",
   "id": "d6dc725e",
   "metadata": {},
   "source": [
    "#### Based on the observations above dataset can be cleaned by\n",
    "  Removing null values, fixing skewed values and removing outliers.\n",
    "  \n",
    "  Then the resulting clean dataset can be used for preceeding tasks"
   ]
  },
  {
   "cell_type": "markdown",
   "id": "0c096f86",
   "metadata": {},
   "source": [
    "#### Question 3\n",
    "\n",
    "##### 10 questions\n",
    "  1. What is the first year of recording emission and the recent year that was recorded, and what is the countries with the highest co2 emission at the beginning of the record and what do they have in common?\n",
    "  \n",
    "  2. What are the differences of co2 emission in 2019 and 2020\n",
    "\n",
    "  3. country with lower co2 emitter, Emission per metric in all years\n",
    "  \n",
    "  4) Linear(correlation ) relationship between carbon emission and economic indicator. \n",
    "  \n",
    "  5) Countries with the highest gross metric carbon emission the same as the country with emission per capacitor\n",
    "  \n",
    "  6) Which year had the highest global emissions per capita\n",
    "  \n",
    "  7) Time series data for carbon emission\n",
    "  \n",
    "  8) Impact of Population density  carbon emission\n",
    "  \n",
    "  9) Which country has the highest decrease in carbon emission in 2010\n",
    "  \n",
    " 10) Correlation between emission per capita vs metric emission metric  on time series plot \n",
    "\n",
    "    "
   ]
  },
  {
   "cell_type": "markdown",
   "id": "4bb7b57b",
   "metadata": {},
   "source": [
    "## Question 5"
   ]
  },
  {
   "cell_type": "markdown",
   "id": "d05d52cc",
   "metadata": {},
   "source": [
    "### 5.a) Understanding the data- attributes/fields, data types, data size, significant fields,\n"
   ]
  },
  {
   "cell_type": "code",
   "execution_count": null,
   "id": "5ac64f36",
   "metadata": {},
   "outputs": [],
   "source": [
    "\"\"\"Loading CO2 Dataset and display the basic summary of the dataset(information)\"\"\"\n",
    "CO2_df  = pd.read_csv('SYB66_310_202310_Carbon Dioxide Emission Estimates.csv', encoding='latin1', skiprows = 1)\n",
    "print('Columns in dataframe: \\n',CO2_df.columns)\n",
    "display(CO2_df.info())\n",
    "display(CO2_df.head())\n",
    "display(CO2_df.tail())"
   ]
  },
  {
   "cell_type": "markdown",
   "id": "16dcaeb9",
   "metadata": {},
   "source": [
    "The dataset comprises 2263 rows and 7 columns, with column headers including 'Region/Country/Area,' 'Unnamed: 1,' 'Year,' 'Series,' 'Value,' 'Footnotes,' and 'Source.' The data types range from integers (Region/Country/Area, Year) to strings or objects (Unnamed: 1, Series, Value, Footnotes, Source). Some entries in the 'Footnotes' column are NaN, indicating missing information. The summary provides essential details about the dataset, facilitating an understanding of its composition and data types. The tabular representation showcases a sample of the dataset, emphasizing the presence of both relevant information and NaN values in certain columns."
   ]
  },
  {
   "cell_type": "markdown",
   "id": "b07fd99d",
   "metadata": {},
   "source": [
    "### 5.b) Understanding the basic statistics and the distribution of numerical data"
   ]
  },
  {
   "cell_type": "code",
   "execution_count": null,
   "id": "ff95149a",
   "metadata": {},
   "outputs": [],
   "source": [
    "# Extracting the CSV file\n",
    "\n",
    "CO2_df = pd.read_csv('SYB66_310_202310_Carbon Dioxide Emission Estimates.csv', encoding='ISO-8859-1', skiprows=1)\n",
    "\n",
    "# Convert dataset From comma separated to float in value column\n",
    "CO2_df['Value'] = pd.to_numeric(CO2_df['Value'].str.replace(',', ''), errors='coerce')\n",
    "\n",
    "# Extract the data based on Emission and Emissions per capita\n",
    "Value_emission = CO2_df[CO2_df['Series'] == 'Emissions (thousand metric tons of carbon dioxide)']\n",
    "Value_capita = per_capita_data = CO2_df[CO2_df['Series'] == 'Emissions per capita (metric tons of carbon dioxide)']\n",
    "\n",
    "# Display basic statistics\n",
    "print(\"Basic Statistics for Emissions:\")\n",
    "display(Value_emission['Value'].describe())\n",
    "print(\"\\nBasic Statistics for Emissions per Capita:\")\n",
    "display(Value_capita['Value'].describe())\n",
    "\n",
    "# Plotting Distribution statistic for numerical column 'Value'\n",
    "fig, axes = plt.subplots(nrows=2, ncols=2, figsize=(16, 12))\n",
    "\n",
    "# Histogram for Emission values\n",
    "sns.histplot(Value_emission['Value'], bins=20, kde=True, color='brown', ax=axes[0, 0])\n",
    "axes[0, 0].set_title('Distribution of CO2 Emissions Values')\n",
    "axes[0, 0].set_xlabel('Emissions')\n",
    "axes[0, 0].set_ylabel('Count')\n",
    "\n",
    "# Histogram for Emission per Capita\n",
    "sns.histplot(Value_capita['Value'], bins=20, kde=True, color='darkgreen', ax=axes[0, 1])\n",
    "axes[0, 1].set_title('Distribution of CO2 Emissions per Capita Values')\n",
    "axes[0, 1].set_xlabel('Emissions per capita (metric tons)')\n",
    "axes[0, 1].set_ylabel('Count')\n",
    "\n",
    "# Histogram for Region/Country/Area column\n",
    "sns.histplot(CO2_df['Region/Country/Area'], color='darkgreen', kde=True, bins=len(CO2_df['Region/Country/Area'].unique()), ax=axes[1, 0])\n",
    "axes[1, 0].set_title('Distribution of Regions/Countries/Areas')\n",
    "axes[1, 0].set_xlabel('Region/Country/Area')\n",
    "axes[1, 0].set_ylabel('Count')\n",
    "\n",
    "# Plotting Histogram for Years column \n",
    "sns.histplot(CO2_df['Year'], palette='magma', ax=axes[1, 1])\n",
    "axes[1, 1].set_title('Distribution CO2 over the Years')\n",
    "axes[1, 1].set_xlabel('Year')\n",
    "axes[1, 1].set_ylabel('Count')\n",
    "\n",
    "# plot distribution of Emission in serie\n",
    "plt.figure(figsize = (10,6))\n",
    "ax = sns.countplot(x='Series', data=CO2_df, palette='Set2')\n",
    "plt.title('Distribution Series Emission & Emission per capita ')\n",
    "plt.xlabel('Series')\n",
    "plt.ylabel('Count')\n",
    "\n",
    "# Annotate with percentage labels\n",
    "total = len(CO2_df)  \n",
    "for i in ax.patches:\n",
    "    height = i.get_height()\n",
    "    percentage = (height / total) * 100\n",
    "    ax.annotate(f'{percentage:.1f}%', (i.get_x() + i.get_width() / 2, height),\n",
    "                ha='center', va='bottom')\n",
    "\n",
    "plt.xticks(rotation=45, ha='right') \n",
    "plt.show()\n"
   ]
  },
  {
   "cell_type": "markdown",
   "id": "e597fa69",
   "metadata": {},
   "source": [
    "The provided code extracts a CSV file into a DataFrame and performs data manipulation and visualization using the Pandas and Seaborn libraries in Python. The dataset is related to carbon dioxide emissions, with columns such as 'Region/Country/Area,' 'Year,' 'Series,' and 'Value.' The 'Value' column is converted to numeric format, and two subsets of data are created for emissions and emissions per capita.\n",
    "\n",
    "Basic statistics, including count, mean, standard deviation, minimum, maximum, and quartiles, are calculated for both emission types. Subsequently, histograms with kernel density estimation (KDE) are plotted to visually represent the distribution of CO2 emissions and emissions per capita. The histograms provide insights into the variation of emissions values, emissions per capita values, distribution across regions/countries/areas, and the distribution over the years. Additionally, a countplot is generated to show the distribution of different series types within the dataset.\n",
    "\n",
    "This comprehensive analysis enhances the understanding of the dataset's numerical characteristics and provides visual insights into the distribution patterns of CO2 emissions."
   ]
  },
  {
   "cell_type": "markdown",
   "id": "f8c76e84",
   "metadata": {},
   "source": [
    "### 5.c) Dataset visualizations"
   ]
  },
  {
   "cell_type": "code",
   "execution_count": null,
   "id": "06cf5c90",
   "metadata": {},
   "outputs": [],
   "source": [
    "# Create subplots\n",
    "fig, axes = plt.subplots(nrows=2, ncols=2, figsize=(20, 15))\n",
    "Value_emission = CO2_df[CO2_df['Series'] == 'Emissions (thousand metric tons of carbon dioxide)']\n",
    "Value_capita = per_capita_data = CO2_df[CO2_df['Series'] == 'Emissions per capita (metric tons of carbon dioxide)']\n",
    "\n",
    "# Line plot for CO2 total emissions over time\n",
    "sns.lineplot(x='Year', y='Value', data=Value_emission, ci=None, color='darkgreen', marker='o', ax=axes[0, 0])\n",
    "axes[0, 0].set_title('Visual of Total Emissions Over Timeserie')\n",
    "axes[0, 0].set_xlabel('Year')\n",
    "axes[0, 0].set_ylabel('Emissions (thousand metric tons)')\n",
    "axes[0, 0].grid()\n",
    " \n",
    "# Line plot for CO2 total emissions per capita\n",
    "sns.lineplot(x='Year', y='Value', data=Value_capita, ci=None, marker='o', color='red', ax=axes[0, 1])\n",
    "axes[0, 1].set_title('Visualize the Total Emissions per Capita Timeserie')\n",
    "axes[0, 1].set_xlabel('Year')\n",
    "axes[0, 1].set_ylabel('Emissions per Capita (metric tons)')\n",
    "axes[0, 1].grid()\n",
    "\n",
    "#  Scatter plot CO2 emissions\n",
    "sns.scatterplot(x='Year', y='Value', hue='Year', data=Value_emission, palette='muted', ax=axes[1, 0])\n",
    "axes[1, 0].set_title('Scatter of CO2 Emission timeseries')\n",
    "axes[1, 0].set_xlabel('Year')\n",
    "axes[1, 0].set_ylabel('Emissions (thousand metric tons)')\n",
    "axes[1, 0].grid()\n",
    "\n",
    "#Scatter plot of CO2 emissions per capita\n",
    "sns.scatterplot(x='Year', y='Value', hue='Year', data=Value_capita, palette='muted', ax=axes[1, 1])\n",
    "axes[1, 1].set_title('Scatter of CO2 Emission per capita timeseries')\n",
    "axes[1, 1].set_xlabel('Years')\n",
    "axes[1, 1].set_ylabel('Emissions per Capita (metric tons)')\n",
    "axes[1, 1].grid()\n",
    "\n",
    "plt.tight_layout()\n",
    "plt.show()\n"
   ]
  },
  {
   "cell_type": "markdown",
   "id": "be40553c",
   "metadata": {},
   "source": [
    "To enhance our comprehension of the dataset, we have utilized a variety of plots for a more insightful and efficient exploration. Specifically, a line plot has been employed to highlight the evolution of CO2 emissions within the dataset. This plot effectively illustrates the changes in emissions over time, providing a visual representation of how different countries have contributed to these emissions. The line plot allows for a quick assessment of trends and patterns, aiding in the interpretation of the dataset's temporal dynamics.\n",
    "\n",
    "Furthermore, this visual analysis reveals a noticeable increase in both overall CO2 emissions and emissions per capita over the studied time period. By focusing on the line plot, it becomes apparent that the emissions have risen consistently across various countries where the research was conducted. This graphical representation offers a concise and immediate understanding of the upward trajectory in CO2 emissions, providing valuable insights into the dataset's overarching trends related to both total emissions and emissions per capita. Employeeing Scatter plot is to visualize the Variation of the data over time serie"
   ]
  },
  {
   "cell_type": "markdown",
   "id": "972b5d87",
   "metadata": {},
   "source": [
    "### 5.d) Check for missing values and outliers"
   ]
  },
  {
   "cell_type": "code",
   "execution_count": null,
   "id": "069fe03a",
   "metadata": {
    "scrolled": false
   },
   "outputs": [],
   "source": [
    "#Checking for missing value in CO2 dataset\n",
    "CO2_NaN = CO2_df.isnull().sum()\n",
    "print(CO2_NaN)\n",
    "\n",
    "# Calculate IQR for 'Value' column in Value_emission\n",
    "Q1 = Value_emission['Value'].quantile(0.25)\n",
    "Q3 = Value_emission['Value'].quantile(0.75)\n",
    "IQR = Q3 - Q1\n",
    "\n",
    "# Define the lower and upper bounds\n",
    "lower_bound = Q1 - 1.5 * IQR\n",
    "upper_bound = Q3 + 1.5 * IQR\n",
    "\n",
    "# Identify outliers\n",
    "outliers_emissions = Value_emission[(Value_emission['Value'] < lower_bound) | (Value_emission['Value'] > upper_bound)]\n",
    "\n",
    "# Display the outliers\n",
    "print('Displaying the outlier found in dataset CO2 Emission metrics')\n",
    "display(outliers_emissions)\n",
    "\n",
    "# Handle outliers and plot\n",
    "Value_emission['Value'] = np.where((Value_emission['Value'] < lower_bound) | (Value_emission['Value'] > upper_bound), np.nan, Value_emission['Value'])\n",
    "\n",
    "# Visualize the boxplot after handling outliers\n",
    "print('Employee')\n",
    "plt.figure(figsize=(8, 6))\n",
    "sns.boxplot(y=Value_emission['Value'], color='skyblue')\n",
    "plt.title(\"Boxplot of CO2 Emissions\\n\")\n",
    "plt.xlabel(\"Emissions\")\n",
    "plt.ylabel(\"Value\")\n",
    "plt.show()\n",
    "\n",
    "# Calculate IQR for 'Value' column in Value_capita\n",
    "Q1 = Value_capita['Value'].quantile(0.25)\n",
    "Q3 = Value_capita['Value'].quantile(0.75)\n",
    "IQR = Q3 - Q1\n",
    "\n",
    "# Define the lower and upper bounds\n",
    "lower_bound = Q1 - 1.5 * IQR\n",
    "upper_bound = Q3 + 1.5 * IQR\n",
    "\n",
    "# Identify outliers\n",
    "outliers_emissions1 = Value_capita[(Value_capita['Value'] < lower_bound) | (Value_capita['Value'] > upper_bound)]\n",
    "\n",
    "# Display the outliers\n",
    "print('Displaying the outlier found in dataset CO2 Emission per capita metrics')\n",
    "display(outliers_emissions1)\n",
    "\n",
    "# Handle outliers\n",
    "Value_capita['Value'] = np.where((Value_capita['Value'] < lower_bound) | (Value_capita['Value'] > upper_bound), np.nan, Value_capita['Value'])\n",
    "\n",
    "# Visualizing and boxplot for Emission per capita\n",
    "plt.figure(figsize=(8, 6))\n",
    "sns.boxplot(y=Value_capita['Value'], color='skyblue')\n",
    "plt.title(\"Boxplot of CO2 Emissions per Capita\\n\")\n",
    "plt.xlabel(\"Emissions per Capita\")\n",
    "plt.ylabel(\"Value\")\n",
    "plt.show()\n"
   ]
  },
  {
   "cell_type": "markdown",
   "id": "adcf6902",
   "metadata": {},
   "source": [
    "The code first checks for missing values in the CO2 dataset and prints the count of missing values for each column. The 'Footnotes' column has 2008 missing values, but it is not addressed as it doesn't conflict with other attributes for the given task. The focus is then on handling outliers in the 'Value' column of both CO2 emissions and CO2 emissions per capita.\n",
    "\n",
    "For CO2 emissions, the Interquartile Range (IQR) is calculated, and lower and upper bounds are defined. Any values falling outside these bounds are identified as outliers and displayed. The outliers are then handled by replacing them with NaN values. A boxplot is visualized to showcase the distribution of CO2 emissions after handling outliers.\n",
    "\n",
    "The same process is repeated for CO2 emissions per capita, where the IQR is calculated, outliers are identified and displayed, and the outliers are subsequently replaced with NaN values. Another boxplot is generated to visualize the distribution of CO2 emissions per capita after outlier handling.\n",
    "\n",
    "The analysis indicates that the 'Value' column in both CO2 emissions and CO2 emissions per capita contains outliers, which are then appropriately addressed. The resulting boxplots provide a clear overview of the distribution of values, aiding in the identification and treatment of potential anomalies in the dataset."
   ]
  },
  {
   "cell_type": "markdown",
   "id": "fa36dce8",
   "metadata": {},
   "source": [
    "### 5.e) Determining the trends, patterns, and relationships among the data with aid of example"
   ]
  },
  {
   "cell_type": "code",
   "execution_count": null,
   "id": "92280d69",
   "metadata": {},
   "outputs": [],
   "source": [
    "\"\"\"Determining the trends and the relationship between CO2 Emission taking example of 5 country of the Region\n",
    "   and plot the timeseries of this country\"\"\"\n",
    "\n",
    "Element = ['Rwanda', 'Kenya', 'United Rep. of Tanzania', 'Uganda', 'Congo']\n",
    "Extract_countries = CO2_df[CO2_df['Unnamed: 1'].isin(Element)]\n",
    "\n",
    "# Plot trends of CO2 country's Emission\n",
    "plt.figure(figsize=(12, 6))\n",
    "sns.lineplot(x = 'Year', y = Value_emission['Value'], hue = 'Unnamed: 1', data = Extract_countries, marker = 'o', palette = ['red', 'blue','orange', 'darkgreen', 'cyan'] )\n",
    "plt.title('Trends in CO2 Emissions for Region Countries')\n",
    "plt.xlabel('Year')\n",
    "plt.ylabel('Emissions (thousand metric tons of CO2)')\n",
    "plt.legend(title = 'Country')\n",
    "plt.grid()\n",
    "plt.show()\n",
    "\n",
    "# Plot trends CO2 country's Emission per capita\n",
    "plt.figure(figsize = (12, 6))\n",
    "sns.lineplot(x = 'Year', y = Value_capita['Value'], hue = 'Unnamed: 1', data = Extract_countries, marker = 'o', palette = ['red', 'blue','orange', 'darkgreen', 'cyan'])\n",
    "plt.title('Trends CO2 Emissions per Capita for Region Countries')\n",
    "plt.xlabel('Year')\n",
    "plt.ylabel('Emissions per capita')\n",
    "plt.legend(title = 'Country')\n",
    "plt.grid()\n",
    "plt.show()\n"
   ]
  },
  {
   "cell_type": "markdown",
   "id": "70c94e6e",
   "metadata": {},
   "source": [
    "The presented code aims to explore and understand the trends in CO2 emissions for a subset of countries within the specified region, namely Rwanda, Kenya, United Rep. of Tanzania, Uganda, and Congo. Two distinct line plots are generated to visualize the trends in both total CO2 emissions (thousand metric tons of CO2) and CO2 emissions per capita (metric tons of CO2) over the years for these countries.\n",
    "\n",
    "In the graph depicting CO2 emissions, it's evident that Kenya exhibits notably higher CO2 emissions compared to the other countries in the region. Over time, Kenya's emissions show a rising trend, reflecting potential growth and industrial development. On the other hand, Rwanda and Congo display relatively lower CO2 emissions, suggesting a variance in the industrialization levels among these countries.\n",
    "\n",
    "Examining the graph for CO2 emissions per capita, there is a distinctive pattern in the region. Congo stands out with a significant increase in CO2 emissions per capita over the years, indicating a potentially rapid industrialization or energy consumption per person. In contrast, Rwanda and Uganda demonstrate lower CO2 emissions per capita, suggesting a more sustainable or less carbon-intensive development trajectory.\n",
    "\n",
    "This study shows trends in both total CO2 emissions and emissions per capita within a regional context. The variations observed among the countries highlight potential differences in their economic development, industrialization pace, and the adoption of cleaner technologies. Such analyses are crucial for informed policymaking and sustainable development strategies tailored to the unique characteristics of each country."
   ]
  },
  {
   "cell_type": "markdown",
   "id": "cd6c3ff3",
   "metadata": {},
   "source": [
    "### 5.f) Answer the  preliminary questions"
   ]
  },
  {
   "cell_type": "code",
   "execution_count": null,
   "id": "3041ad08",
   "metadata": {},
   "outputs": [],
   "source": [
    "# read the data and encofing in Latin-1 font\n",
    "data = pd.read_csv(\"SYB66_310_202310_Carbon Dioxide Emission Estimates.csv\",index_col=0, encoding='latin-1',skiprows=1, sep=\",\")\n",
    "data"
   ]
  },
  {
   "cell_type": "code",
   "execution_count": null,
   "id": "7e2ab441",
   "metadata": {},
   "outputs": [],
   "source": [
    "# rename unnamed column to country\n",
    "\n",
    "data = data.rename(columns={'Unnamed: 1': 'Country'})\n",
    "data['Value'] = data['Value'].str.replace(',', '').astype(float)\n",
    "data\n"
   ]
  },
  {
   "cell_type": "markdown",
   "id": "278121f8",
   "metadata": {},
   "source": [
    "### 1. What  the countries  with highest carbon emission have in common in the earlier recorded year\n"
   ]
  },
  {
   "cell_type": "code",
   "execution_count": null,
   "id": "13b609b1",
   "metadata": {},
   "outputs": [],
   "source": [
    "# sort the data from the oldest year to the recent recorded \n",
    "# get the earliest year that data were recorded \n",
    "year = min(data['Year'])\n",
    "first_record = data.groupby(['Year'])\n",
    "get_year = first_record.get_group(year)\n",
    "# extract the countries with highest emmission the in earliest year that the record were made \n",
    "get_value = get_year.sort_values(by='Value').tail(5)\n",
    "\n",
    "#plot the countries\n",
    "plt.figure(figsize=(12,6))\n",
    "plt.bar(get_value['Country'],get_value['Value'], color =['red','blue','green','yellow','black'])\n",
    "plt.xlabel('countries')\n",
    "plt.ylabel('co2 emission ')\n",
    "plt.title('Emission in 1975')"
   ]
  },
  {
   "cell_type": "markdown",
   "id": "503108a5",
   "metadata": {},
   "source": [
    "## comparison of co2 emission in 2019 and 2020"
   ]
  },
  {
   "cell_type": "code",
   "execution_count": null,
   "id": "1e96322b",
   "metadata": {},
   "outputs": [],
   "source": [
    "# group the Data per year 2020 and 2019\n",
    "record = data.groupby(['Year'])\n",
    "# extract the year 2019 and 2020\n",
    "year_2019 = record.get_group(2019)\n",
    "year_2020 = record.get_group(2020)\n",
    "#sort the by the highest to the lowest \n",
    "sorted_2019 =year_2019.sort_values(by='Value').tail(5)\n",
    "sorted_2020 =year_2020.sort_values(by='Value').tail(5)\n",
    "\n",
    "# initialize the axis\n",
    "plt.figure(figsize=(12,6))\n",
    "x= np.arange(len(sorted_2019['Country']))\n",
    "#PLOT\n",
    "plt.bar(x - 0.1 , sorted_2019['Value'] , label ='co2 in 2019')\n",
    "plt.bar(x + 0.1 , sorted_2020['Value'] , label ='co2 in 2020')\n",
    "plt.xticks(x,sorted_2019['Country'] )\n",
    "plt.legend()\n",
    "plt.title('Comparision of Co2 emission in 2019-2020')\n"
   ]
  },
  {
   "cell_type": "markdown",
   "id": "5ea29ca6",
   "metadata": {},
   "source": [
    "## 3. Lowest co2 ever, Emission per metric"
   ]
  },
  {
   "cell_type": "code",
   "execution_count": null,
   "id": "ae9e2dbb",
   "metadata": {},
   "outputs": [],
   "source": [
    "# group data by Series\n",
    "grouped_series = data.groupby(['Series'])\n",
    "co2_per_capital = grouped_series.get_group('Emissions per capita (metric tons of carbon dioxide)')\n",
    "co2_per_metric= grouped_series.get_group('Emissions (thousand metric tons of carbon dioxide)')\n",
    "# group the Emission per capita by years\n",
    "per_year = co2_per_metric.groupby(['Year'])\n",
    "# create a list dictionary that will store the min emission per country for each year \n",
    "store= []\n",
    "for x in data['Year']:\n",
    "    min_percapita = per_year.get_group(x)\n",
    "    get_min= min_percapita['Value'].idxmin()\n",
    "\n",
    "    store.append(min_percapita.loc[get_min])\n",
    "\n",
    "# convert the list of stored min emitter of co2 in the whole dataset into Dataframe\n",
    "Min_emitters = pd.DataFrame(store)\n",
    "# display the uniques countries that emitter less in the whole dataset\n",
    "country = Min_emitters['Country'].unique()\n",
    "for x in range (0,len(country)):\n",
    "    print(f'The Country with the minumum co2 emission the whole Dataset is: {country[x]}')"
   ]
  },
  {
   "cell_type": "code",
   "execution_count": null,
   "id": "fb971543",
   "metadata": {},
   "outputs": [],
   "source": [
    "# group by country and plot the average of their emission in the whole dataset \n",
    "grouped_min_emitters = Min_emitters.groupby(['Country'])\n",
    "# extract the grouped countries \n",
    "get_Gibraltat = grouped_min_emitters.get_group('Gibraltar')\n",
    "get_eq_guinea = grouped_min_emitters.get_group('Equatorial Guinea')\n",
    "# compare the two country by plotting the average of their emission fro 1975 -2020\n",
    "#PLOT\n",
    "plt.bar(country[0] , get_Gibraltat['Value'].mean() ) \n",
    "plt.bar(country[1], get_eq_guinea['Value'].mean() )\n",
    "plt.xlabel('Country')\n",
    "plt.ylabel('Emission Average')\n",
    "plt.title('Emission average low emitter countries from 1975-2020')"
   ]
  },
  {
   "cell_type": "code",
   "execution_count": null,
   "id": "b7bbd60b",
   "metadata": {},
   "outputs": [],
   "source": [
    "data[\"Series\"].unique()"
   ]
  },
  {
   "cell_type": "markdown",
   "id": "eeb58552",
   "metadata": {},
   "source": [
    "### 3.Country with the lowest carbon emission in 2020 "
   ]
  },
  {
   "cell_type": "code",
   "execution_count": null,
   "id": "58cbca36",
   "metadata": {},
   "outputs": [],
   "source": [
    "gdf_filtered = data[(data['Year'] == 2020) & (data['Series'] == 'Emissions per capita (metric tons of carbon dioxide)')]\n",
    "gdf_merged = gdf_filtered.merge(data, on='Year', suffixes=('_sorted', '_original'))\n",
    "\n",
    "gdf_sorted = gdf_merged.sort_values(by='Value_original', ascending=False)\n",
    "\n",
    "gdf_unique = gdf_sorted.drop_duplicates(subset=['Year', 'Value_original'])\n",
    "\n",
    "gdf_low_emitter = gdf_unique[['Country_sorted', 'Series_original', 'Value_original','Year']]\n",
    "gdf_low_emitter_sorted = gdf_low_emitter.sort_values(by='Value_original', ascending=True)\n",
    "\n",
    "gdf_low_emitter_sorted.reset_index(inplace=True)\n",
    "\n",
    "data_per_capita = gdf_low_emitter_sorted.head(79)\n",
    "data_per_capita\n",
    "data_per_capita"
   ]
  },
  {
   "cell_type": "markdown",
   "id": "4774dba7",
   "metadata": {},
   "source": [
    "## 4. Emmitter per capita"
   ]
  },
  {
   "cell_type": "code",
   "execution_count": null,
   "id": "1f14fd21",
   "metadata": {},
   "outputs": [],
   "source": [
    "plt.plot(data_per_capita['Value_original'])\n",
    "plt.title(\" The garph indicationg the trend in carbon emission per capita\")\n",
    "plt.xlabel(\"number counts \")\n",
    "plt.ylabel(\"Amount of emission per capita\")"
   ]
  },
  {
   "cell_type": "code",
   "execution_count": null,
   "id": "ce6bf4aa",
   "metadata": {},
   "outputs": [],
   "source": [
    "Low_emitter_per_capita = data[data['Series']==\"Emissions (thousand metric tons of carbon dioxide)\"]\n",
    "Low_emitter_per_capita"
   ]
  },
  {
   "cell_type": "markdown",
   "id": "ac7aa0d7",
   "metadata": {},
   "source": [
    "## 5. Emitter per Metric tons (Country)"
   ]
  },
  {
   "cell_type": "code",
   "execution_count": null,
   "id": "1ef8e0d5",
   "metadata": {},
   "outputs": [],
   "source": [
    "plt.scatter(Low_emitter_per_capita[\"Year\"],Low_emitter_per_capita[\"Value\"])"
   ]
  },
  {
   "cell_type": "markdown",
   "id": "ee3af75d",
   "metadata": {},
   "source": [
    "# 7) Time series data for carbon emission"
   ]
  },
  {
   "cell_type": "code",
   "execution_count": null,
   "id": "a3e5bcd9",
   "metadata": {},
   "outputs": [],
   "source": [
    "plt.bar(data[\"Year\"],data[\"Value\"])\n",
    "plt.xlabel(\"Years \")\n",
    "plt.ylabel(\"the increase in Value \")\n",
    "plt.title(\" The correspondence of the Value of co2 emmision over the time \")"
   ]
  },
  {
   "cell_type": "code",
   "execution_count": null,
   "id": "b90ef9bd",
   "metadata": {},
   "outputs": [],
   "source": []
  }
 ],
 "metadata": {
  "kernelspec": {
   "display_name": "Python 3 (ipykernel)",
   "language": "python",
   "name": "python3"
  },
  "language_info": {
   "codemirror_mode": {
    "name": "ipython",
    "version": 3
   },
   "file_extension": ".py",
   "mimetype": "text/x-python",
   "name": "python",
   "nbconvert_exporter": "python",
   "pygments_lexer": "ipython3",
   "version": "3.11.4"
  }
 },
 "nbformat": 4,
 "nbformat_minor": 5
}
